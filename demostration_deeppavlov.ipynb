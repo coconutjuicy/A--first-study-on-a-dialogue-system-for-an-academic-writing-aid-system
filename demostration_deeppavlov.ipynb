{
 "cells": [
  {
   "cell_type": "markdown",
   "source": [
    "# 1 Installation"
   ],
   "metadata": {}
  },
  {
   "cell_type": "code",
   "execution_count": 55,
   "source": [
    "# !conda create -n dpv_demo python=3.7 --yes\n",
    "# !conda activate dpv_demo \n",
    "\n",
    "\n",
    "# please run this code in terminal for avoiding the bug"
   ],
   "outputs": [
    {
     "output_type": "stream",
     "name": "stdout",
     "text": [
      "Collecting package metadata (current_repodata.json): done\n",
      "Solving environment: done\n",
      "\n",
      "\n",
      "==> WARNING: A newer version of conda exists. <==\n",
      "  current version: 4.9.2\n",
      "  latest version: 4.10.3\n",
      "\n",
      "Please update conda by running\n",
      "\n",
      "    $ conda update -n base -c defaults conda\n",
      "\n",
      "\n",
      "\n",
      "## Package Plan ##\n",
      "\n",
      "  environment location: /home/henchli/anaconda3/envs/dpv_demo\n",
      "\n",
      "  added / updated specs:\n",
      "    - python=3.7\n",
      "\n",
      "\n",
      "The following NEW packages will be INSTALLED:\n",
      "\n",
      "  _libgcc_mutex      pkgs/main/linux-64::_libgcc_mutex-0.1-main\n",
      "  _openmp_mutex      pkgs/main/linux-64::_openmp_mutex-4.5-1_gnu\n",
      "  ca-certificates    pkgs/main/linux-64::ca-certificates-2021.7.5-h06a4308_1\n",
      "  certifi            pkgs/main/linux-64::certifi-2021.5.30-py37h06a4308_0\n",
      "  ld_impl_linux-64   pkgs/main/linux-64::ld_impl_linux-64-2.35.1-h7274673_9\n",
      "  libffi             pkgs/main/linux-64::libffi-3.3-he6710b0_2\n",
      "  libgcc-ng          pkgs/main/linux-64::libgcc-ng-9.3.0-h5101ec6_17\n",
      "  libgomp            pkgs/main/linux-64::libgomp-9.3.0-h5101ec6_17\n",
      "  libstdcxx-ng       pkgs/main/linux-64::libstdcxx-ng-9.3.0-hd4cf53a_17\n",
      "  ncurses            pkgs/main/linux-64::ncurses-6.2-he6710b0_1\n",
      "  openssl            pkgs/main/linux-64::openssl-1.1.1k-h27cfd23_0\n",
      "  pip                pkgs/main/linux-64::pip-21.1.3-py37h06a4308_0\n",
      "  python             pkgs/main/linux-64::python-3.7.10-h12debd9_4\n",
      "  readline           pkgs/main/linux-64::readline-8.1-h27cfd23_0\n",
      "  setuptools         pkgs/main/linux-64::setuptools-52.0.0-py37h06a4308_0\n",
      "  sqlite             pkgs/main/linux-64::sqlite-3.36.0-hc218d9a_0\n",
      "  tk                 pkgs/main/linux-64::tk-8.6.10-hbc83047_0\n",
      "  wheel              pkgs/main/noarch::wheel-0.36.2-pyhd3eb1b0_0\n",
      "  xz                 pkgs/main/linux-64::xz-5.2.5-h7b6447c_0\n",
      "  zlib               pkgs/main/linux-64::zlib-1.2.11-h7b6447c_3\n",
      "\n",
      "\n",
      "Preparing transaction: done\n",
      "Verifying transaction: done\n",
      "Executing transaction: done\n",
      "#\n",
      "# To activate this environment, use\n",
      "#\n",
      "#     $ conda activate dpv_demo\n",
      "#\n",
      "# To deactivate an active environment, use\n",
      "#\n",
      "#     $ conda deactivate\n",
      "\n"
     ]
    }
   ],
   "metadata": {}
  },
  {
   "cell_type": "code",
   "execution_count": 58,
   "source": [
    "!pip install deeppavlov # please run this code in terminal for avoiding the bug"
   ],
   "outputs": [
    {
     "output_type": "stream",
     "name": "stdout",
     "text": [
      "Collecting deeppavlov\n",
      "  Using cached deeppavlov-0.15.0-py3-none-any.whl (907 kB)\n",
      "Requirement already satisfied: requests==2.22.0 in /home/henchli/anaconda3/envs/dpv_demo/lib/python3.7/site-packages (from deeppavlov) (2.22.0)\n",
      "Requirement already satisfied: scipy==1.4.1 in /home/henchli/anaconda3/envs/dpv_demo/lib/python3.7/site-packages (from deeppavlov) (1.4.1)\n",
      "Collecting nltk==3.4.5\n",
      "  Using cached nltk-3.4.5-py3-none-any.whl\n",
      "Requirement already satisfied: pandas==0.25.3 in /home/henchli/anaconda3/envs/dpv_demo/lib/python3.7/site-packages (from deeppavlov) (0.25.3)\n",
      "Requirement already satisfied: pymorphy2-dicts-ru in /home/henchli/anaconda3/envs/dpv_demo/lib/python3.7/site-packages (from deeppavlov) (2.4.417127.4579844)\n",
      "Requirement already satisfied: ruamel.yaml==0.15.100 in /home/henchli/anaconda3/envs/dpv_demo/lib/python3.7/site-packages (from deeppavlov) (0.15.100)\n",
      "Requirement already satisfied: click==7.1.2 in /home/henchli/anaconda3/envs/dpv_demo/lib/python3.7/site-packages (from deeppavlov) (7.1.2)\n",
      "Collecting Cython==0.29.14\n",
      "  Using cached Cython-0.29.14-cp37-cp37m-manylinux1_x86_64.whl (2.1 MB)\n",
      "Requirement already satisfied: sacremoses==0.0.35 in /home/henchli/anaconda3/envs/dpv_demo/lib/python3.7/site-packages (from deeppavlov) (0.0.35)\n",
      "Requirement already satisfied: pydantic==1.3 in /home/henchli/anaconda3/envs/dpv_demo/lib/python3.7/site-packages (from deeppavlov) (1.3)\n",
      "Collecting aio-pika==6.4.1\n",
      "  Using cached aio_pika-6.4.1-py3-none-any.whl (40 kB)\n",
      "Collecting h5py==2.10.0\n",
      "  Using cached h5py-2.10.0-cp37-cp37m-manylinux1_x86_64.whl (2.9 MB)\n",
      "Requirement already satisfied: uvloop==0.14.0 in /home/henchli/anaconda3/envs/dpv_demo/lib/python3.7/site-packages (from deeppavlov) (0.14.0)\n",
      "Requirement already satisfied: rusenttokenize==0.0.5 in /home/henchli/anaconda3/envs/dpv_demo/lib/python3.7/site-packages (from deeppavlov) (0.0.5)\n",
      "Requirement already satisfied: uvicorn==0.11.7 in /home/henchli/anaconda3/envs/dpv_demo/lib/python3.7/site-packages (from deeppavlov) (0.11.7)\n",
      "Requirement already satisfied: pymorphy2==0.8 in /home/henchli/anaconda3/envs/dpv_demo/lib/python3.7/site-packages (from deeppavlov) (0.8)\n",
      "Collecting fastapi==0.47.1\n",
      "  Using cached fastapi-0.47.1-py3-none-any.whl (43 kB)\n",
      "Requirement already satisfied: prometheus-client==0.7.1 in /home/henchli/anaconda3/envs/dpv_demo/lib/python3.7/site-packages (from deeppavlov) (0.7.1)\n",
      "Requirement already satisfied: pyopenssl==19.1.0 in /home/henchli/anaconda3/envs/dpv_demo/lib/python3.7/site-packages (from deeppavlov) (19.1.0)\n",
      "Requirement already satisfied: pytz==2019.1 in /home/henchli/anaconda3/envs/dpv_demo/lib/python3.7/site-packages (from deeppavlov) (2019.1)\n",
      "Requirement already satisfied: tqdm==4.41.1 in /home/henchli/anaconda3/envs/dpv_demo/lib/python3.7/site-packages (from deeppavlov) (4.41.1)\n",
      "Collecting overrides==2.7.0\n",
      "  Using cached overrides-2.7.0-py3-none-any.whl\n",
      "Requirement already satisfied: pytelegrambotapi==3.6.7 in /home/henchli/anaconda3/envs/dpv_demo/lib/python3.7/site-packages (from deeppavlov) (3.6.7)\n",
      "Collecting filelock==3.0.12\n",
      "  Using cached filelock-3.0.12-py3-none-any.whl (7.6 kB)\n",
      "Requirement already satisfied: scikit-learn==0.21.2 in /home/henchli/anaconda3/envs/dpv_demo/lib/python3.7/site-packages (from deeppavlov) (0.21.2)\n",
      "Requirement already satisfied: numpy==1.18.0 in /home/henchli/anaconda3/envs/dpv_demo/lib/python3.7/site-packages (from deeppavlov) (1.18.0)\n",
      "Requirement already satisfied: aiormq<4,>=3.2.0 in /home/henchli/anaconda3/envs/dpv_demo/lib/python3.7/site-packages (from aio-pika==6.4.1->deeppavlov) (3.3.1)\n",
      "Requirement already satisfied: yarl in /home/henchli/anaconda3/envs/dpv_demo/lib/python3.7/site-packages (from aio-pika==6.4.1->deeppavlov) (1.6.3)\n",
      "Requirement already satisfied: starlette<=0.12.9,>=0.12.9 in /home/henchli/anaconda3/envs/dpv_demo/lib/python3.7/site-packages (from fastapi==0.47.1->deeppavlov) (0.12.9)\n",
      "Requirement already satisfied: six in /home/henchli/anaconda3/envs/dpv_demo/lib/python3.7/site-packages (from h5py==2.10.0->deeppavlov) (1.16.0)\n",
      "Requirement already satisfied: python-dateutil>=2.6.1 in /home/henchli/anaconda3/envs/dpv_demo/lib/python3.7/site-packages (from pandas==0.25.3->deeppavlov) (2.8.1)\n",
      "Requirement already satisfied: dawg-python>=0.7 in /home/henchli/anaconda3/envs/dpv_demo/lib/python3.7/site-packages (from pymorphy2==0.8->deeppavlov) (0.7.2)\n",
      "Requirement already satisfied: docopt>=0.6 in /home/henchli/anaconda3/envs/dpv_demo/lib/python3.7/site-packages (from pymorphy2==0.8->deeppavlov) (0.6.2)\n",
      "Requirement already satisfied: pymorphy2-dicts<3.0,>=2.4 in /home/henchli/anaconda3/envs/dpv_demo/lib/python3.7/site-packages (from pymorphy2==0.8->deeppavlov) (2.4.393442.3710985)\n",
      "Requirement already satisfied: cryptography>=2.8 in /home/henchli/anaconda3/envs/dpv_demo/lib/python3.7/site-packages (from pyopenssl==19.1.0->deeppavlov) (3.4.7)\n",
      "Requirement already satisfied: chardet<3.1.0,>=3.0.2 in /home/henchli/anaconda3/envs/dpv_demo/lib/python3.7/site-packages (from requests==2.22.0->deeppavlov) (3.0.4)\n",
      "Requirement already satisfied: certifi>=2017.4.17 in /home/henchli/anaconda3/envs/dpv_demo/lib/python3.7/site-packages (from requests==2.22.0->deeppavlov) (2021.5.30)\n",
      "Requirement already satisfied: urllib3!=1.25.0,!=1.25.1,<1.26,>=1.21.1 in /home/henchli/anaconda3/envs/dpv_demo/lib/python3.7/site-packages (from requests==2.22.0->deeppavlov) (1.25.11)\n",
      "Requirement already satisfied: idna<2.9,>=2.5 in /home/henchli/anaconda3/envs/dpv_demo/lib/python3.7/site-packages (from requests==2.22.0->deeppavlov) (2.8)\n",
      "Requirement already satisfied: joblib in /home/henchli/anaconda3/envs/dpv_demo/lib/python3.7/site-packages (from sacremoses==0.0.35->deeppavlov) (1.0.1)\n",
      "Requirement already satisfied: websockets==8.* in /home/henchli/anaconda3/envs/dpv_demo/lib/python3.7/site-packages (from uvicorn==0.11.7->deeppavlov) (8.1)\n",
      "Requirement already satisfied: h11<0.10,>=0.8 in /home/henchli/anaconda3/envs/dpv_demo/lib/python3.7/site-packages (from uvicorn==0.11.7->deeppavlov) (0.9.0)\n",
      "Requirement already satisfied: httptools==0.1.* in /home/henchli/anaconda3/envs/dpv_demo/lib/python3.7/site-packages (from uvicorn==0.11.7->deeppavlov) (0.1.2)\n",
      "Requirement already satisfied: pamqp==2.3.0 in /home/henchli/anaconda3/envs/dpv_demo/lib/python3.7/site-packages (from aiormq<4,>=3.2.0->aio-pika==6.4.1->deeppavlov) (2.3.0)\n",
      "Requirement already satisfied: cffi>=1.12 in /home/henchli/anaconda3/envs/dpv_demo/lib/python3.7/site-packages (from cryptography>=2.8->pyopenssl==19.1.0->deeppavlov) (1.14.6)\n",
      "Requirement already satisfied: pycparser in /home/henchli/anaconda3/envs/dpv_demo/lib/python3.7/site-packages (from cffi>=1.12->cryptography>=2.8->pyopenssl==19.1.0->deeppavlov) (2.20)\n",
      "Requirement already satisfied: typing-extensions>=3.7.4 in /home/henchli/anaconda3/envs/dpv_demo/lib/python3.7/site-packages (from yarl->aio-pika==6.4.1->deeppavlov) (3.10.0.0)\n",
      "Requirement already satisfied: multidict>=4.0 in /home/henchli/anaconda3/envs/dpv_demo/lib/python3.7/site-packages (from yarl->aio-pika==6.4.1->deeppavlov) (5.1.0)\n",
      "Installing collected packages: overrides, nltk, h5py, filelock, fastapi, Cython, aio-pika, deeppavlov\n",
      "Successfully installed Cython-0.29.14 aio-pika-6.4.1 deeppavlov-0.15.0 fastapi-0.47.1 filelock-3.0.12 h5py-2.10.0 nltk-3.4.5 overrides-2.7.0\n"
     ]
    }
   ],
   "metadata": {}
  },
  {
   "cell_type": "code",
   "execution_count": 59,
   "source": [
    "!python -m deeppavlov install slotfill_dstc2 -d \n",
    "\n",
    "# install the slot filling model"
   ],
   "outputs": [
    {
     "output_type": "stream",
     "name": "stdout",
     "text": [
      "2021-07-13 22:59:50.695 INFO in 'deeppavlov.core.common.file'['file'] at line 32: Interpreting 'slotfill_dstc2' as '/home/henchli/anaconda3/envs/dpv_demo/lib/python3.7/site-packages/deeppavlov/configs/ner/slotfill_dstc2.json'\n",
      "2021-07-13 22:59:53.163 INFO in 'deeppavlov.download'['download'] at line 138: Skipped http://files.deeppavlov.ai/deeppavlov_data/dstc_slot_vals.tar.gz?config=slotfill_dstc2 download because of matching hashes\n",
      "2021-07-13 22:59:55.628 INFO in 'deeppavlov.download'['download'] at line 138: Skipped http://files.deeppavlov.ai/deeppavlov_data/slotfill_dstc2.tar.gz?config=slotfill_dstc2 download because of matching hashes\n",
      "Collecting tensorflow==1.15.2\n",
      "  Using cached tensorflow-1.15.2-cp37-cp37m-manylinux2010_x86_64.whl (110.5 MB)\n",
      "Collecting keras-applications>=1.0.8\n",
      "  Using cached Keras_Applications-1.0.8-py3-none-any.whl (50 kB)\n",
      "Collecting wrapt>=1.11.1\n",
      "  Using cached wrapt-1.12.1-cp37-cp37m-linux_x86_64.whl\n",
      "Collecting astor>=0.6.0\n",
      "  Using cached astor-0.8.1-py2.py3-none-any.whl (27 kB)\n",
      "Requirement already satisfied: six>=1.10.0 in /home/henchli/anaconda3/envs/dpv_demo/lib/python3.7/site-packages (from tensorflow==1.15.2) (1.16.0)\n",
      "Collecting gast==0.2.2\n",
      "  Using cached gast-0.2.2-py3-none-any.whl\n",
      "Collecting grpcio>=1.8.6\n",
      "  Using cached grpcio-1.38.1-cp37-cp37m-manylinux2014_x86_64.whl (4.2 MB)\n",
      "Collecting opt-einsum>=2.3.2\n",
      "  Using cached opt_einsum-3.3.0-py3-none-any.whl (65 kB)\n",
      "Collecting tensorboard<1.16.0,>=1.15.0\n",
      "  Using cached tensorboard-1.15.0-py3-none-any.whl (3.8 MB)\n",
      "Collecting google-pasta>=0.1.6\n",
      "  Using cached google_pasta-0.2.0-py3-none-any.whl (57 kB)\n",
      "Requirement already satisfied: wheel>=0.26 in /home/henchli/anaconda3/envs/dpv_demo/lib/python3.7/site-packages (from tensorflow==1.15.2) (0.36.2)\n",
      "Requirement already satisfied: numpy<2.0,>=1.16.0 in /home/henchli/anaconda3/envs/dpv_demo/lib/python3.7/site-packages (from tensorflow==1.15.2) (1.18.0)\n",
      "Collecting keras-preprocessing>=1.0.5\n",
      "  Using cached Keras_Preprocessing-1.1.2-py2.py3-none-any.whl (42 kB)\n",
      "Collecting termcolor>=1.1.0\n",
      "  Using cached termcolor-1.1.0-py3-none-any.whl\n",
      "Collecting absl-py>=0.7.0\n",
      "  Using cached absl_py-0.13.0-py3-none-any.whl (132 kB)\n",
      "Collecting tensorflow-estimator==1.15.1\n",
      "  Using cached tensorflow_estimator-1.15.1-py2.py3-none-any.whl (503 kB)\n",
      "Collecting protobuf>=3.6.1\n",
      "  Using cached protobuf-3.17.3-cp37-cp37m-manylinux_2_5_x86_64.manylinux1_x86_64.whl (1.0 MB)\n",
      "Requirement already satisfied: h5py in /home/henchli/anaconda3/envs/dpv_demo/lib/python3.7/site-packages (from keras-applications>=1.0.8->tensorflow==1.15.2) (2.10.0)\n",
      "Requirement already satisfied: setuptools>=41.0.0 in /home/henchli/anaconda3/envs/dpv_demo/lib/python3.7/site-packages (from tensorboard<1.16.0,>=1.15.0->tensorflow==1.15.2) (52.0.0.post20210125)\n",
      "Collecting werkzeug>=0.11.15\n",
      "  Using cached Werkzeug-2.0.1-py3-none-any.whl (288 kB)\n",
      "Collecting markdown>=2.6.8\n",
      "  Using cached Markdown-3.3.4-py3-none-any.whl (97 kB)\n",
      "Collecting importlib-metadata\n",
      "  Using cached importlib_metadata-4.6.1-py3-none-any.whl (17 kB)\n",
      "Collecting zipp>=0.5\n",
      "  Using cached zipp-3.5.0-py3-none-any.whl (5.7 kB)\n",
      "Requirement already satisfied: typing-extensions>=3.6.4 in /home/henchli/anaconda3/envs/dpv_demo/lib/python3.7/site-packages (from importlib-metadata->markdown>=2.6.8->tensorboard<1.16.0,>=1.15.0->tensorflow==1.15.2) (3.10.0.0)\n",
      "Installing collected packages: zipp, importlib-metadata, werkzeug, protobuf, markdown, grpcio, absl-py, wrapt, termcolor, tensorflow-estimator, tensorboard, opt-einsum, keras-preprocessing, keras-applications, google-pasta, gast, astor, tensorflow\n",
      "Successfully installed absl-py-0.13.0 astor-0.8.1 gast-0.2.2 google-pasta-0.2.0 grpcio-1.38.1 importlib-metadata-4.6.1 keras-applications-1.0.8 keras-preprocessing-1.1.2 markdown-3.3.4 opt-einsum-3.3.0 protobuf-3.17.3 tensorboard-1.15.0 tensorflow-1.15.2 tensorflow-estimator-1.15.1 termcolor-1.1.0 werkzeug-2.0.1 wrapt-1.12.1 zipp-3.5.0\n",
      "Collecting rapidfuzz==0.7.6\n",
      "  Using cached rapidfuzz-0.7.6-cp37-cp37m-manylinux2010_x86_64.whl (692 kB)\n",
      "Installing collected packages: rapidfuzz\n",
      "Successfully installed rapidfuzz-0.7.6\n"
     ]
    }
   ],
   "metadata": {}
  },
  {
   "cell_type": "code",
   "execution_count": null,
   "source": [
    "!python -m deeppavlov install gobot_dstc2 -d # please run this code in terminal for avoiding the bug\n",
    "\n",
    "# install the dialogue state tracking (DST) model"
   ],
   "outputs": [
    {
     "output_type": "stream",
     "name": "stdout",
     "text": [
      "2021-07-13 23:00:43.517 INFO in 'deeppavlov.core.common.file'['file'] at line 32: Interpreting 'gobot_dstc2' as '/home/henchli/anaconda3/envs/dpv_demo/lib/python3.7/site-packages/deeppavlov/configs/go_bot/gobot_dstc2.json'\n",
      "2021-07-13 23:00:46.414 INFO in 'deeppavlov.download'['download'] at line 138: Skipped http://files.deeppavlov.ai/embeddings/glove.6B.100d.txt?config=gobot_dstc2 download because of matching hashes\n",
      "2021-07-13 23:00:48.778 INFO in 'deeppavlov.download'['download'] at line 138: Skipped http://files.deeppavlov.ai/deeppavlov_data/gobot_dstc2_v9.tar.gz?config=gobot_dstc2 download because of matching hashes\n",
      "2021-07-13 23:00:51.229 INFO in 'deeppavlov.download'['download'] at line 138: Skipped http://files.deeppavlov.ai/deeppavlov_data/slotfill_dstc2.tar.gz?config=gobot_dstc2 download because of matching hashes\n",
      "2021-07-13 23:00:53.322 INFO in 'deeppavlov.download'['download'] at line 138: Skipped http://files.deeppavlov.ai/datasets/dstc2_v3.tar.gz?config=gobot_dstc2 download because of matching hashes\n",
      "2021-07-13 23:00:55.630 INFO in 'deeppavlov.download'['download'] at line 138: Skipped http://files.deeppavlov.ai/deeppavlov_data/dstc_slot_vals.tar.gz?config=gobot_dstc2 download because of matching hashes\n",
      "Collecting en_core_web_sm==2.2.5\n",
      "  Using cached en_core_web_sm-2.2.5-py3-none-any.whl\n",
      "Requirement already satisfied: spacy>=2.2.2 in /home/henchli/anaconda3/envs/dpv_demo/lib/python3.7/site-packages (from en_core_web_sm==2.2.5) (2.2.3)\n",
      "Requirement already satisfied: cymem<2.1.0,>=2.0.2 in /home/henchli/anaconda3/envs/dpv_demo/lib/python3.7/site-packages (from spacy>=2.2.2->en_core_web_sm==2.2.5) (2.0.5)\n",
      "Requirement already satisfied: srsly<1.1.0,>=0.1.0 in /home/henchli/anaconda3/envs/dpv_demo/lib/python3.7/site-packages (from spacy>=2.2.2->en_core_web_sm==2.2.5) (1.0.5)\n",
      "Requirement already satisfied: setuptools in /home/henchli/anaconda3/envs/dpv_demo/lib/python3.7/site-packages (from spacy>=2.2.2->en_core_web_sm==2.2.5) (52.0.0.post20210125)\n",
      "Requirement already satisfied: thinc<7.4.0,>=7.3.0 in /home/henchli/anaconda3/envs/dpv_demo/lib/python3.7/site-packages (from spacy>=2.2.2->en_core_web_sm==2.2.5) (7.3.1)\n",
      "Requirement already satisfied: requests<3.0.0,>=2.13.0 in /home/henchli/anaconda3/envs/dpv_demo/lib/python3.7/site-packages (from spacy>=2.2.2->en_core_web_sm==2.2.5) (2.22.0)\n",
      "Requirement already satisfied: numpy>=1.15.0 in /home/henchli/anaconda3/envs/dpv_demo/lib/python3.7/site-packages (from spacy>=2.2.2->en_core_web_sm==2.2.5) (1.18.0)\n",
      "Requirement already satisfied: blis<0.5.0,>=0.4.0 in /home/henchli/anaconda3/envs/dpv_demo/lib/python3.7/site-packages (from spacy>=2.2.2->en_core_web_sm==2.2.5) (0.4.1)\n",
      "Requirement already satisfied: preshed<3.1.0,>=3.0.2 in /home/henchli/anaconda3/envs/dpv_demo/lib/python3.7/site-packages (from spacy>=2.2.2->en_core_web_sm==2.2.5) (3.0.5)\n",
      "Requirement already satisfied: wasabi<1.1.0,>=0.4.0 in /home/henchli/anaconda3/envs/dpv_demo/lib/python3.7/site-packages (from spacy>=2.2.2->en_core_web_sm==2.2.5) (0.8.2)\n",
      "Requirement already satisfied: murmurhash<1.1.0,>=0.28.0 in /home/henchli/anaconda3/envs/dpv_demo/lib/python3.7/site-packages (from spacy>=2.2.2->en_core_web_sm==2.2.5) (1.0.5)\n",
      "Requirement already satisfied: catalogue<1.1.0,>=0.0.7 in /home/henchli/anaconda3/envs/dpv_demo/lib/python3.7/site-packages (from spacy>=2.2.2->en_core_web_sm==2.2.5) (1.0.0)\n",
      "Requirement already satisfied: plac<1.2.0,>=0.9.6 in /home/henchli/anaconda3/envs/dpv_demo/lib/python3.7/site-packages (from spacy>=2.2.2->en_core_web_sm==2.2.5) (1.1.3)\n",
      "Requirement already satisfied: importlib-metadata>=0.20 in /home/henchli/anaconda3/envs/dpv_demo/lib/python3.7/site-packages (from catalogue<1.1.0,>=0.0.7->spacy>=2.2.2->en_core_web_sm==2.2.5) (4.6.1)\n",
      "Requirement already satisfied: zipp>=0.5 in /home/henchli/anaconda3/envs/dpv_demo/lib/python3.7/site-packages (from importlib-metadata>=0.20->catalogue<1.1.0,>=0.0.7->spacy>=2.2.2->en_core_web_sm==2.2.5) (3.5.0)\n",
      "Requirement already satisfied: typing-extensions>=3.6.4 in /home/henchli/anaconda3/envs/dpv_demo/lib/python3.7/site-packages (from importlib-metadata>=0.20->catalogue<1.1.0,>=0.0.7->spacy>=2.2.2->en_core_web_sm==2.2.5) (3.10.0.0)\n",
      "Requirement already satisfied: idna<2.9,>=2.5 in /home/henchli/anaconda3/envs/dpv_demo/lib/python3.7/site-packages (from requests<3.0.0,>=2.13.0->spacy>=2.2.2->en_core_web_sm==2.2.5) (2.8)\n",
      "Requirement already satisfied: urllib3!=1.25.0,!=1.25.1,<1.26,>=1.21.1 in /home/henchli/anaconda3/envs/dpv_demo/lib/python3.7/site-packages (from requests<3.0.0,>=2.13.0->spacy>=2.2.2->en_core_web_sm==2.2.5) (1.25.11)\n",
      "Requirement already satisfied: certifi>=2017.4.17 in /home/henchli/anaconda3/envs/dpv_demo/lib/python3.7/site-packages (from requests<3.0.0,>=2.13.0->spacy>=2.2.2->en_core_web_sm==2.2.5) (2021.5.30)\n",
      "Requirement already satisfied: chardet<3.1.0,>=3.0.2 in /home/henchli/anaconda3/envs/dpv_demo/lib/python3.7/site-packages (from requests<3.0.0,>=2.13.0->spacy>=2.2.2->en_core_web_sm==2.2.5) (3.0.4)\n",
      "Requirement already satisfied: tqdm<5.0.0,>=4.10.0 in /home/henchli/anaconda3/envs/dpv_demo/lib/python3.7/site-packages (from thinc<7.4.0,>=7.3.0->spacy>=2.2.2->en_core_web_sm==2.2.5) (4.41.1)\n",
      "Requirement already satisfied: tensorflow==1.15.2 in /home/henchli/anaconda3/envs/dpv_demo/lib/python3.7/site-packages (1.15.2)\n",
      "Requirement already satisfied: six>=1.10.0 in /home/henchli/anaconda3/envs/dpv_demo/lib/python3.7/site-packages (from tensorflow==1.15.2) (1.16.0)\n",
      "Requirement already satisfied: astor>=0.6.0 in /home/henchli/anaconda3/envs/dpv_demo/lib/python3.7/site-packages (from tensorflow==1.15.2) (0.8.1)\n",
      "Requirement already satisfied: keras-applications>=1.0.8 in /home/henchli/anaconda3/envs/dpv_demo/lib/python3.7/site-packages (from tensorflow==1.15.2) (1.0.8)\n",
      "Requirement already satisfied: tensorflow-estimator==1.15.1 in /home/henchli/anaconda3/envs/dpv_demo/lib/python3.7/site-packages (from tensorflow==1.15.2) (1.15.1)\n",
      "Requirement already satisfied: grpcio>=1.8.6 in /home/henchli/anaconda3/envs/dpv_demo/lib/python3.7/site-packages (from tensorflow==1.15.2) (1.38.1)\n",
      "Requirement already satisfied: termcolor>=1.1.0 in /home/henchli/anaconda3/envs/dpv_demo/lib/python3.7/site-packages (from tensorflow==1.15.2) (1.1.0)\n",
      "Requirement already satisfied: numpy<2.0,>=1.16.0 in /home/henchli/anaconda3/envs/dpv_demo/lib/python3.7/site-packages (from tensorflow==1.15.2) (1.18.0)\n",
      "Requirement already satisfied: wrapt>=1.11.1 in /home/henchli/anaconda3/envs/dpv_demo/lib/python3.7/site-packages (from tensorflow==1.15.2) (1.12.1)\n",
      "Requirement already satisfied: google-pasta>=0.1.6 in /home/henchli/anaconda3/envs/dpv_demo/lib/python3.7/site-packages (from tensorflow==1.15.2) (0.2.0)\n",
      "Requirement already satisfied: opt-einsum>=2.3.2 in /home/henchli/anaconda3/envs/dpv_demo/lib/python3.7/site-packages (from tensorflow==1.15.2) (3.3.0)\n",
      "Requirement already satisfied: tensorboard<1.16.0,>=1.15.0 in /home/henchli/anaconda3/envs/dpv_demo/lib/python3.7/site-packages (from tensorflow==1.15.2) (1.15.0)\n",
      "Requirement already satisfied: protobuf>=3.6.1 in /home/henchli/anaconda3/envs/dpv_demo/lib/python3.7/site-packages (from tensorflow==1.15.2) (3.17.3)\n",
      "Requirement already satisfied: absl-py>=0.7.0 in /home/henchli/anaconda3/envs/dpv_demo/lib/python3.7/site-packages (from tensorflow==1.15.2) (0.13.0)\n",
      "Requirement already satisfied: gast==0.2.2 in /home/henchli/anaconda3/envs/dpv_demo/lib/python3.7/site-packages (from tensorflow==1.15.2) (0.2.2)\n",
      "Requirement already satisfied: keras-preprocessing>=1.0.5 in /home/henchli/anaconda3/envs/dpv_demo/lib/python3.7/site-packages (from tensorflow==1.15.2) (1.1.2)\n",
      "Requirement already satisfied: wheel>=0.26 in /home/henchli/anaconda3/envs/dpv_demo/lib/python3.7/site-packages (from tensorflow==1.15.2) (0.36.2)\n",
      "Requirement already satisfied: h5py in /home/henchli/anaconda3/envs/dpv_demo/lib/python3.7/site-packages (from keras-applications>=1.0.8->tensorflow==1.15.2) (2.10.0)\n",
      "Requirement already satisfied: markdown>=2.6.8 in /home/henchli/anaconda3/envs/dpv_demo/lib/python3.7/site-packages (from tensorboard<1.16.0,>=1.15.0->tensorflow==1.15.2) (3.3.4)\n",
      "Requirement already satisfied: werkzeug>=0.11.15 in /home/henchli/anaconda3/envs/dpv_demo/lib/python3.7/site-packages (from tensorboard<1.16.0,>=1.15.0->tensorflow==1.15.2) (2.0.1)\n",
      "Requirement already satisfied: setuptools>=41.0.0 in /home/henchli/anaconda3/envs/dpv_demo/lib/python3.7/site-packages (from tensorboard<1.16.0,>=1.15.0->tensorflow==1.15.2) (52.0.0.post20210125)\n",
      "Requirement already satisfied: importlib-metadata in /home/henchli/anaconda3/envs/dpv_demo/lib/python3.7/site-packages (from markdown>=2.6.8->tensorboard<1.16.0,>=1.15.0->tensorflow==1.15.2) (4.6.1)\n",
      "Requirement already satisfied: typing-extensions>=3.6.4 in /home/henchli/anaconda3/envs/dpv_demo/lib/python3.7/site-packages (from importlib-metadata->markdown>=2.6.8->tensorboard<1.16.0,>=1.15.0->tensorflow==1.15.2) (3.10.0.0)\n",
      "Requirement already satisfied: zipp>=0.5 in /home/henchli/anaconda3/envs/dpv_demo/lib/python3.7/site-packages (from importlib-metadata->markdown>=2.6.8->tensorboard<1.16.0,>=1.15.0->tensorflow==1.15.2) (3.5.0)\n",
      "Requirement already satisfied: gensim==3.8.1 in /home/henchli/anaconda3/envs/dpv_demo/lib/python3.7/site-packages (3.8.1)\n",
      "Requirement already satisfied: numpy>=1.11.3 in /home/henchli/anaconda3/envs/dpv_demo/lib/python3.7/site-packages (from gensim==3.8.1) (1.18.0)\n",
      "Requirement already satisfied: six>=1.5.0 in /home/henchli/anaconda3/envs/dpv_demo/lib/python3.7/site-packages (from gensim==3.8.1) (1.16.0)\n",
      "Requirement already satisfied: scipy>=0.18.1 in /home/henchli/anaconda3/envs/dpv_demo/lib/python3.7/site-packages (from gensim==3.8.1) (1.4.1)\n",
      "Requirement already satisfied: smart-open>=1.8.1 in /home/henchli/anaconda3/envs/dpv_demo/lib/python3.7/site-packages (from gensim==3.8.1) (5.1.0)\n",
      "Requirement already satisfied: rapidfuzz==0.7.6 in /home/henchli/anaconda3/envs/dpv_demo/lib/python3.7/site-packages (0.7.6)\n",
      "Requirement already satisfied: spacy==2.2.3 in /home/henchli/anaconda3/envs/dpv_demo/lib/python3.7/site-packages (2.2.3)\n",
      "Requirement already satisfied: thinc<7.4.0,>=7.3.0 in /home/henchli/anaconda3/envs/dpv_demo/lib/python3.7/site-packages (from spacy==2.2.3) (7.3.1)\n",
      "Requirement already satisfied: blis<0.5.0,>=0.4.0 in /home/henchli/anaconda3/envs/dpv_demo/lib/python3.7/site-packages (from spacy==2.2.3) (0.4.1)\n",
      "Requirement already satisfied: wasabi<1.1.0,>=0.4.0 in /home/henchli/anaconda3/envs/dpv_demo/lib/python3.7/site-packages (from spacy==2.2.3) (0.8.2)\n",
      "Requirement already satisfied: preshed<3.1.0,>=3.0.2 in /home/henchli/anaconda3/envs/dpv_demo/lib/python3.7/site-packages (from spacy==2.2.3) (3.0.5)\n",
      "Requirement already satisfied: srsly<1.1.0,>=0.1.0 in /home/henchli/anaconda3/envs/dpv_demo/lib/python3.7/site-packages (from spacy==2.2.3) (1.0.5)\n",
      "Requirement already satisfied: requests<3.0.0,>=2.13.0 in /home/henchli/anaconda3/envs/dpv_demo/lib/python3.7/site-packages (from spacy==2.2.3) (2.22.0)\n",
      "Requirement already satisfied: plac<1.2.0,>=0.9.6 in /home/henchli/anaconda3/envs/dpv_demo/lib/python3.7/site-packages (from spacy==2.2.3) (1.1.3)\n",
      "Requirement already satisfied: numpy>=1.15.0 in /home/henchli/anaconda3/envs/dpv_demo/lib/python3.7/site-packages (from spacy==2.2.3) (1.18.0)\n",
      "Requirement already satisfied: cymem<2.1.0,>=2.0.2 in /home/henchli/anaconda3/envs/dpv_demo/lib/python3.7/site-packages (from spacy==2.2.3) (2.0.5)\n",
      "Requirement already satisfied: murmurhash<1.1.0,>=0.28.0 in /home/henchli/anaconda3/envs/dpv_demo/lib/python3.7/site-packages (from spacy==2.2.3) (1.0.5)\n",
      "Requirement already satisfied: catalogue<1.1.0,>=0.0.7 in /home/henchli/anaconda3/envs/dpv_demo/lib/python3.7/site-packages (from spacy==2.2.3) (1.0.0)\n",
      "Requirement already satisfied: setuptools in /home/henchli/anaconda3/envs/dpv_demo/lib/python3.7/site-packages (from spacy==2.2.3) (52.0.0.post20210125)\n",
      "Requirement already satisfied: importlib-metadata>=0.20 in /home/henchli/anaconda3/envs/dpv_demo/lib/python3.7/site-packages (from catalogue<1.1.0,>=0.0.7->spacy==2.2.3) (4.6.1)\n",
      "Requirement already satisfied: typing-extensions>=3.6.4 in /home/henchli/anaconda3/envs/dpv_demo/lib/python3.7/site-packages (from importlib-metadata>=0.20->catalogue<1.1.0,>=0.0.7->spacy==2.2.3) (3.10.0.0)\n",
      "Requirement already satisfied: zipp>=0.5 in /home/henchli/anaconda3/envs/dpv_demo/lib/python3.7/site-packages (from importlib-metadata>=0.20->catalogue<1.1.0,>=0.0.7->spacy==2.2.3) (3.5.0)\n",
      "Requirement already satisfied: urllib3!=1.25.0,!=1.25.1,<1.26,>=1.21.1 in /home/henchli/anaconda3/envs/dpv_demo/lib/python3.7/site-packages (from requests<3.0.0,>=2.13.0->spacy==2.2.3) (1.25.11)\n",
      "Requirement already satisfied: idna<2.9,>=2.5 in /home/henchli/anaconda3/envs/dpv_demo/lib/python3.7/site-packages (from requests<3.0.0,>=2.13.0->spacy==2.2.3) (2.8)\n",
      "Requirement already satisfied: certifi>=2017.4.17 in /home/henchli/anaconda3/envs/dpv_demo/lib/python3.7/site-packages (from requests<3.0.0,>=2.13.0->spacy==2.2.3) (2021.5.30)\n",
      "Requirement already satisfied: chardet<3.1.0,>=3.0.2 in /home/henchli/anaconda3/envs/dpv_demo/lib/python3.7/site-packages (from requests<3.0.0,>=2.13.0->spacy==2.2.3) (3.0.4)\n",
      "Requirement already satisfied: tqdm<5.0.0,>=4.10.0 in /home/henchli/anaconda3/envs/dpv_demo/lib/python3.7/site-packages (from thinc<7.4.0,>=7.3.0->spacy==2.2.3) (4.41.1)\n"
     ]
    }
   ],
   "metadata": {}
  },
  {
   "cell_type": "code",
   "execution_count": 69,
   "source": [
    "!cp accuracy.py ~/anaconda3/envs/dpv_demo/lib/python3.7/site-packages/deeppavlov/metrics/accuracy.py\n",
    "!cp slotfill_raw.py ~/anaconda3/envs/dpv_demo/lib/python3.7/site-packages/deeppavlov/models/slotfill/slotfill_raw.py\n",
    "!cp gobot_dstc2.json ~/anaconda3/envs/dpv_demo/lib/python3.7/site-packages/deeppavlov/configs/go_bot/gobot_dstc2.json\n",
    "\n",
    "# change some source code of the official version"
   ],
   "outputs": [],
   "metadata": {}
  },
  {
   "cell_type": "code",
   "execution_count": 10,
   "source": [
    "!cp accuracy.py ~/anaconda3/envs/dpv_demo/lib/python3.7/site-packages/deeppavlov/metrics/accuracy.py"
   ],
   "outputs": [],
   "metadata": {}
  },
  {
   "cell_type": "markdown",
   "source": [
    "# 2 Dataset Modification"
   ],
   "metadata": {}
  },
  {
   "cell_type": "markdown",
   "source": [
    "### 2.1 chage_slot.py\n",
    "\n",
    " We manually modify the dstc2 data set based on the corresponding relationship of the slot. This involves complex modifications to the json file."
   ],
   "metadata": {}
  },
  {
   "cell_type": "code",
   "execution_count": 4,
   "source": [
    "!cp ~/.deeppavlov/downloads/dstc2_v3/ ./ # please run this code in terminal for avoiding the bug\n",
    "\n",
    "# copy the original dstc2 dataset to current path"
   ],
   "outputs": [
    {
     "output_type": "stream",
     "name": "stdout",
     "text": [
      "cp: -r not specified; omitting directory '/home/henchli/.deeppavlov/downloads/dstc2_v3/'\n"
     ]
    }
   ],
   "metadata": {}
  },
  {
   "cell_type": "markdown",
   "source": [
    "### 2.1 Input of change_slot.py\n",
    "{\"speaker\": 2, \n",
    "\"text\": \"Hello, welcome to the Cambridge restaurant system. You can ask for restaurants by area, price range or food type. How may I help you?\", \n",
    "\"dialog_acts\": [{\"act\": \"welcomemsg\", \"slots\": []}]}\n",
    "\n",
    "{\"speaker\": 1, \n",
    "\"text\": \"cheap restaurant\", \n",
    "\"goals\": {\"pricerange\": \"cheap\"}, \n",
    "\"dialog_acts\": [{\"slots\": [[\"pricerange\", \"cheap\"]], \"act\": \"inform\"}]}"
   ],
   "metadata": {}
  },
  {
   "cell_type": "code",
   "execution_count": 11,
   "source": [
    "!python change_slot.py ./dstc2_v3/dstc2-trn.jsonlist > 1\n",
    "!python change_slot.py ./dstc2_v3/dstc2-val.jsonlist > 2\n",
    "!python change_slot.py ./dstc2_v3/dstc2-tst.jsonlist > 3\n",
    "!python extract_act.py > 4\n",
    "\n",
    "# apply the modification to the dstc2 dataset for creating our dataset"
   ],
   "outputs": [],
   "metadata": {}
  },
  {
   "cell_type": "markdown",
   "source": [
    "### 2.1 Output of change_slot.py\n",
    "\n",
    "{\"speaker\": 2, \n",
    "\"text\": \"Hello, welcome to the Cambridge restaurant system. You can ask for restaurants by type of sentence division terms, type of text summarization or type of grammar error correction type. How may I help you?\", \n",
    "\"dialog_acts\": [{\"act\": \"welcomemsg\", \"slots\": []}]}\n",
    "\n",
    "{\"speaker\": 1, \n",
    "\"text\": \"abstract restaurant\", \n",
    "\"goals\": {\"type of text summarization\": \"dontcare\"}, \n",
    "\"dialog_acts\": [{\"slots\": [[\"type of text summarization\", \"abstract\"]], \"act\": \"inform\"}]}"
   ],
   "metadata": {}
  },
  {
   "cell_type": "markdown",
   "source": [
    "Among them, \"speaker = 2\" means that this sentence is sent by the dialogue system. \"speaker = 1\" means that this sentence is input by the user. \"goals\" is the state value that the DST model should predict, and it is the ground truth of the DST. \"slots\" in the \"dialogue acts\" is the slot value that the slot filling model should predict, and it is the ground truth of the slot filling model."
   ],
   "metadata": {}
  },
  {
   "cell_type": "markdown",
   "source": [
    "### 2.2 cal_freq.py\n",
    "\n",
    "This program of screening high-frequency words is mainly prepared for the operation of replacing high-frequency words later. We hope to replace some of the words representing food and restaurant that have not been replaced in the previous step, so that the model can think that this is a writing aid related data when predicting."
   ],
   "metadata": {}
  },
  {
   "cell_type": "markdown",
   "source": [
    "### 2.2 Input of cal_freq.py\n",
    "\n",
    "The input of this step is the output of the previous step."
   ],
   "metadata": {}
  },
  {
   "cell_type": "code",
   "execution_count": 16,
   "source": [
    "!python cal_freq.py > word_freq"
   ],
   "outputs": [],
   "metadata": {}
  },
  {
   "cell_type": "markdown",
   "source": [
    "### 2.2 Output of cal_freq.py\n",
    "\n",
    "{\"speaker\": 2, \"text\": \"Hello, welcome to the Cambridge restaurant system. You can ask for restaurants by type of sentence division terms, type of text summarization or type of grammar error correction type. How may I help you?\", \"dialog_acts\": [{\"act\": \"welcomemsg\", \"slots\": []}]}\t4,5,11\n",
    "\n",
    "{\"speaker\": 1, \"text\": \"abstract restaurant\", \"goals\": {\"type of text summarization\": \"dontcare\"}, \"dialog_acts\": [{\"slots\": [[\"type of text summarization\", \"abstract\"]], \"act\": \"inform\"}]}\t1"
   ],
   "metadata": {}
  },
  {
   "cell_type": "markdown",
   "source": [
    "We output the position of high-frequency words. The number in this position represents the word order of the sentence in the \"text\" variable, starting from 0. "
   ],
   "metadata": {}
  },
  {
   "cell_type": "markdown",
   "source": [
    "The use of stop words in the dictionary is to prevent stop words from being screened out when screening. We don't need to let the later language model predict stop words. We can see that \"restaurant\" has been filtered out in these two sentences. This shows the effectiveness of our code."
   ],
   "metadata": {}
  },
  {
   "cell_type": "markdown",
   "source": [
    "### 2.3 LM_final.py\n",
    "\n",
    "In this model, we hope to replace the keywords selected in the previous step with the words in writing aid dialogue. The replacement model is a BERT pre-trained language model. We use the BERT language model for finetuning in the writing aid dialogue, and then understand the position number filtered out earlier as a mask. Enter a whole sentence and output the word mask. We replaced the predicted words with the original words and got a more reasonable dataset."
   ],
   "metadata": {}
  },
  {
   "cell_type": "markdown",
   "source": [
    "### 2.3 Input of LM_final.py\n",
    "\n",
    "The input of this step is the output of the previous step."
   ],
   "metadata": {}
  },
  {
   "cell_type": "code",
   "execution_count": 25,
   "source": [
    "!pip install torch\n",
    "!pip install transformers\n",
    "!python LM_final.py"
   ],
   "outputs": [
    {
     "output_type": "stream",
     "name": "stdout",
     "text": [
      "Requirement already satisfied: torch in /home/henchli/anaconda3/envs/dpv_demo/lib/python3.7/site-packages (1.9.0)\n",
      "Requirement already satisfied: typing-extensions in /home/henchli/anaconda3/envs/dpv_demo/lib/python3.7/site-packages (from torch) (3.10.0.0)\n",
      "Requirement already satisfied: transformers in /home/henchli/anaconda3/envs/dpv_demo/lib/python3.7/site-packages (4.8.2)\n",
      "Requirement already satisfied: numpy>=1.17 in /home/henchli/anaconda3/envs/dpv_demo/lib/python3.7/site-packages (from transformers) (1.18.0)\n",
      "Requirement already satisfied: packaging in /home/henchli/anaconda3/envs/dpv_demo/lib/python3.7/site-packages (from transformers) (21.0)\n",
      "Requirement already satisfied: tokenizers<0.11,>=0.10.1 in /home/henchli/anaconda3/envs/dpv_demo/lib/python3.7/site-packages (from transformers) (0.10.3)\n",
      "Requirement already satisfied: huggingface-hub==0.0.12 in /home/henchli/anaconda3/envs/dpv_demo/lib/python3.7/site-packages (from transformers) (0.0.12)\n",
      "Requirement already satisfied: requests in /home/henchli/anaconda3/envs/dpv_demo/lib/python3.7/site-packages (from transformers) (2.22.0)\n",
      "Requirement already satisfied: importlib-metadata in /home/henchli/anaconda3/envs/dpv_demo/lib/python3.7/site-packages (from transformers) (4.6.1)\n",
      "Requirement already satisfied: sacremoses in /home/henchli/anaconda3/envs/dpv_demo/lib/python3.7/site-packages (from transformers) (0.0.35)\n",
      "Requirement already satisfied: filelock in /home/henchli/anaconda3/envs/dpv_demo/lib/python3.7/site-packages (from transformers) (3.0.12)\n",
      "Requirement already satisfied: regex!=2019.12.17 in /home/henchli/anaconda3/envs/dpv_demo/lib/python3.7/site-packages (from transformers) (2021.7.6)\n",
      "Requirement already satisfied: tqdm>=4.27 in /home/henchli/anaconda3/envs/dpv_demo/lib/python3.7/site-packages (from transformers) (4.41.1)\n",
      "Requirement already satisfied: pyyaml in /home/henchli/anaconda3/envs/dpv_demo/lib/python3.7/site-packages (from transformers) (5.4.1)\n",
      "Requirement already satisfied: typing-extensions in /home/henchli/anaconda3/envs/dpv_demo/lib/python3.7/site-packages (from huggingface-hub==0.0.12->transformers) (3.10.0.0)\n",
      "Requirement already satisfied: pyparsing>=2.0.2 in /home/henchli/anaconda3/envs/dpv_demo/lib/python3.7/site-packages (from packaging->transformers) (2.4.7)\n",
      "Requirement already satisfied: zipp>=0.5 in /home/henchli/anaconda3/envs/dpv_demo/lib/python3.7/site-packages (from importlib-metadata->transformers) (3.5.0)\n",
      "Requirement already satisfied: urllib3!=1.25.0,!=1.25.1,<1.26,>=1.21.1 in /home/henchli/anaconda3/envs/dpv_demo/lib/python3.7/site-packages (from requests->transformers) (1.25.11)\n",
      "Requirement already satisfied: certifi>=2017.4.17 in /home/henchli/anaconda3/envs/dpv_demo/lib/python3.7/site-packages (from requests->transformers) (2021.5.30)\n",
      "Requirement already satisfied: chardet<3.1.0,>=3.0.2 in /home/henchli/anaconda3/envs/dpv_demo/lib/python3.7/site-packages (from requests->transformers) (3.0.4)\n",
      "Requirement already satisfied: idna<2.9,>=2.5 in /home/henchli/anaconda3/envs/dpv_demo/lib/python3.7/site-packages (from requests->transformers) (2.8)\n",
      "Requirement already satisfied: joblib in /home/henchli/anaconda3/envs/dpv_demo/lib/python3.7/site-packages (from sacremoses->transformers) (1.0.1)\n",
      "Requirement already satisfied: six in /home/henchli/anaconda3/envs/dpv_demo/lib/python3.7/site-packages (from sacremoses->transformers) (1.16.0)\n",
      "Requirement already satisfied: click in /home/henchli/anaconda3/envs/dpv_demo/lib/python3.7/site-packages (from sacremoses->transformers) (7.1.2)\n"
     ]
    }
   ],
   "metadata": {}
  },
  {
   "cell_type": "markdown",
   "source": [
    "### 2.3 Output of LM_final.py\n",
    "\n",
    "{\"speaker\": 2, \"text\": \"Hello, welcome to the abstract text system. You can ask for text by type of sentence division terms, type of text summarization or type of grammar error correction type. How may I help you?\", \"dialog_acts\": [{\"act\": \"welcomemsg\", \"slots\": []}]}\n",
    "\n",
    "{\"speaker\": 1, \"text\": \"abstract text\", \"goals\": {\"type of text summarization\": \"dontcare\"}, \"dialog_acts\": [{\"slots\": [[\"type of text summarization\", \"abstract\"]], \"act\": \"inform\"}]}"
   ],
   "metadata": {}
  },
  {
   "cell_type": "markdown",
   "source": [
    "We got a data set that was replaced. The effect of replacement depends entirely on the training effect of the language model. During training, we randomly selected a mask for each sentence, and let the language model train 500 epochs in the writing aid dialogue data set."
   ],
   "metadata": {}
  },
  {
   "cell_type": "markdown",
   "source": [
    "After replacing the language model, we can see that although the sentences are not particularly fluent, most of the words are already writing aid related words. Such sentences can help us train slot filling and DST models to predict the correct value."
   ],
   "metadata": {}
  },
  {
   "cell_type": "markdown",
   "source": [
    "# 3 Run the dialogue system"
   ],
   "metadata": {}
  },
  {
   "cell_type": "markdown",
   "source": [
    "After successfully modifying the data set, we can use the DeepPavlov framework to train the entire dialogue system. We have two tasks: slot filling and DST. We have written the code for how to download, install, replace the data set file, modify the source code and train the model into the jupyter notebook."
   ],
   "metadata": {}
  },
  {
   "cell_type": "markdown",
   "source": [
    "### 3.1 Input of dialogue system\n",
    "\n",
    "The input is our modified data set. This dataset still maintains this dstc2 format and can run under the framework of DeepPavlov."
   ],
   "metadata": {}
  },
  {
   "cell_type": "code",
   "execution_count": 12,
   "source": [
    "!sh file_op.sh\n",
    "!python -m deeppavlov train slotfill_dstc2_raw\n",
    "\n",
    "# train the slot filling model with our dataset"
   ],
   "outputs": [],
   "metadata": {}
  },
  {
   "cell_type": "markdown",
   "source": [
    "### 3.2 Output of dialogue system\n",
    "\n",
    "2021-07-13 23:04:41.640 WARNING in 'deeppavlov.core.trainers.nn_trainer'['nn_trainer'] at line 341: Using NNTrainer for a pipeline without batched training\n",
    "\n",
    "2021-07-13 23:04:41.640 INFO in 'deeppavlov.core.trainers.nn_trainer'['nn_trainer'] at line 345: Save model to capture early training results\n",
    "\n",
    "{\"valid\": {\"eval_examples_count\": 1285, \"metrics\": {\"slots_accuracy\": 0.979}, \"time_spent\": \"0:00:44\"}}\n",
    "\n",
    "{\"test\": {\"eval_examples_count\": 1220, \"metrics\": {\"slots_accuracy\": 0.9811}, \"time_spent\": \"0:00:37\"}}"
   ],
   "metadata": {}
  },
  {
   "cell_type": "markdown",
   "source": [
    "We will show the accuracy results of slot filling and DST modelWe will show the accuracy results of slot filling and DST. For slot filling tasks, this framework can also calculate the results of precision, recall and F1, but for the convenience of presentation, we only show the results of accuracy."
   ],
   "metadata": {}
  },
  {
   "cell_type": "markdown",
   "source": [
    "This is the result of slot filling. The results obtained on our modified data set are similar to the results obtained on the original dstc2 data set, which can prove the validity of our data."
   ],
   "metadata": {}
  },
  {
   "cell_type": "code",
   "execution_count": 3,
   "source": [
    "!python -m deeppavlov install gobot_dstc2 -d"
   ],
   "outputs": [
    {
     "output_type": "stream",
     "name": "stdout",
     "text": [
      "2021-07-19 10:44:57.963 INFO in 'deeppavlov.core.common.file'['file'] at line 32: Interpreting 'gobot_dstc2' as '/home/henchli/anaconda3/envs/dpv_demo/lib/python3.7/site-packages/deeppavlov/configs/go_bot/gobot_dstc2.json'\n",
      "2021-07-19 10:45:00.816 INFO in 'deeppavlov.core.data.utils'['utils'] at line 95: Downloading from http://files.deeppavlov.ai/deeppavlov_data/dstc_slot_vals.tar.gz?config=gobot_dstc2 to /home/henchli/.deeppavlov/downloads/dstc_slot_vals.tar.gz\n",
      "100%|███████████████████████████████████████| 1.62k/1.62k [00:00<00:00, 794kB/s]\n",
      "2021-07-19 10:45:02.870 INFO in 'deeppavlov.core.data.utils'['utils'] at line 272: Extracting /home/henchli/.deeppavlov/downloads/dstc_slot_vals.tar.gz archive into /home/henchli/.deeppavlov/downloads/dstc2\n",
      "2021-07-19 10:45:05.831 INFO in 'deeppavlov.download'['download'] at line 138: Skipped http://files.deeppavlov.ai/embeddings/glove.6B.100d.txt?config=gobot_dstc2 download because of matching hashes\n",
      "2021-07-19 10:45:08.284 INFO in 'deeppavlov.core.data.utils'['utils'] at line 95: Downloading from http://files.deeppavlov.ai/deeppavlov_data/gobot_dstc2_v9.tar.gz?config=gobot_dstc2 to /home/henchli/.deeppavlov/gobot_dstc2_v9.tar.gz\n",
      "100%|█████████████████████████████████████████| 966k/966k [00:02<00:00, 442kB/s]\n",
      "2021-07-19 10:45:13.37 INFO in 'deeppavlov.core.data.utils'['utils'] at line 272: Extracting /home/henchli/.deeppavlov/gobot_dstc2_v9.tar.gz archive into /home/henchli/.deeppavlov/models\n",
      "2021-07-19 10:45:15.265 INFO in 'deeppavlov.download'['download'] at line 138: Skipped http://files.deeppavlov.ai/deeppavlov_data/slotfill_dstc2.tar.gz?config=gobot_dstc2 download because of matching hashes\n",
      "2021-07-19 10:45:17.715 INFO in 'deeppavlov.core.data.utils'['utils'] at line 95: Downloading from http://files.deeppavlov.ai/datasets/dstc2_v3.tar.gz?config=gobot_dstc2 to /home/henchli/.deeppavlov/downloads/dstc2_v3.tar.gz\n",
      "100%|█████████████████████████████████████████| 506k/506k [00:01<00:00, 329kB/s]\n",
      "2021-07-19 10:45:21.504 INFO in 'deeppavlov.core.data.utils'['utils'] at line 272: Extracting /home/henchli/.deeppavlov/downloads/dstc2_v3.tar.gz archive into /home/henchli/.deeppavlov/downloads/dstc2_v3\n",
      "Requirement already satisfied: rapidfuzz==0.7.6 in /home/henchli/anaconda3/envs/dpv_demo/lib/python3.7/site-packages (0.7.6)\n",
      "Requirement already satisfied: spacy==2.2.3 in /home/henchli/anaconda3/envs/dpv_demo/lib/python3.7/site-packages (2.2.3)\n",
      "Requirement already satisfied: requests<3.0.0,>=2.13.0 in /home/henchli/anaconda3/envs/dpv_demo/lib/python3.7/site-packages (from spacy==2.2.3) (2.22.0)\n",
      "Requirement already satisfied: setuptools in /home/henchli/anaconda3/envs/dpv_demo/lib/python3.7/site-packages (from spacy==2.2.3) (52.0.0.post20210125)\n",
      "Requirement already satisfied: plac<1.2.0,>=0.9.6 in /home/henchli/anaconda3/envs/dpv_demo/lib/python3.7/site-packages (from spacy==2.2.3) (1.1.3)\n",
      "Requirement already satisfied: cymem<2.1.0,>=2.0.2 in /home/henchli/anaconda3/envs/dpv_demo/lib/python3.7/site-packages (from spacy==2.2.3) (2.0.5)\n",
      "Requirement already satisfied: thinc<7.4.0,>=7.3.0 in /home/henchli/anaconda3/envs/dpv_demo/lib/python3.7/site-packages (from spacy==2.2.3) (7.3.1)\n",
      "Requirement already satisfied: srsly<1.1.0,>=0.1.0 in /home/henchli/anaconda3/envs/dpv_demo/lib/python3.7/site-packages (from spacy==2.2.3) (1.0.5)\n",
      "Requirement already satisfied: wasabi<1.1.0,>=0.4.0 in /home/henchli/anaconda3/envs/dpv_demo/lib/python3.7/site-packages (from spacy==2.2.3) (0.8.2)\n",
      "Requirement already satisfied: blis<0.5.0,>=0.4.0 in /home/henchli/anaconda3/envs/dpv_demo/lib/python3.7/site-packages (from spacy==2.2.3) (0.4.1)\n",
      "Requirement already satisfied: murmurhash<1.1.0,>=0.28.0 in /home/henchli/anaconda3/envs/dpv_demo/lib/python3.7/site-packages (from spacy==2.2.3) (1.0.5)\n",
      "Requirement already satisfied: preshed<3.1.0,>=3.0.2 in /home/henchli/anaconda3/envs/dpv_demo/lib/python3.7/site-packages (from spacy==2.2.3) (3.0.5)\n",
      "Requirement already satisfied: numpy>=1.15.0 in /home/henchli/anaconda3/envs/dpv_demo/lib/python3.7/site-packages (from spacy==2.2.3) (1.18.0)\n",
      "Requirement already satisfied: catalogue<1.1.0,>=0.0.7 in /home/henchli/anaconda3/envs/dpv_demo/lib/python3.7/site-packages (from spacy==2.2.3) (1.0.0)\n",
      "Requirement already satisfied: importlib-metadata>=0.20 in /home/henchli/anaconda3/envs/dpv_demo/lib/python3.7/site-packages (from catalogue<1.1.0,>=0.0.7->spacy==2.2.3) (4.6.1)\n",
      "Requirement already satisfied: zipp>=0.5 in /home/henchli/anaconda3/envs/dpv_demo/lib/python3.7/site-packages (from importlib-metadata>=0.20->catalogue<1.1.0,>=0.0.7->spacy==2.2.3) (3.5.0)\n",
      "Requirement already satisfied: typing-extensions>=3.6.4 in /home/henchli/anaconda3/envs/dpv_demo/lib/python3.7/site-packages (from importlib-metadata>=0.20->catalogue<1.1.0,>=0.0.7->spacy==2.2.3) (3.10.0.0)\n",
      "Requirement already satisfied: idna<2.9,>=2.5 in /home/henchli/anaconda3/envs/dpv_demo/lib/python3.7/site-packages (from requests<3.0.0,>=2.13.0->spacy==2.2.3) (2.8)\n",
      "Requirement already satisfied: urllib3!=1.25.0,!=1.25.1,<1.26,>=1.21.1 in /home/henchli/anaconda3/envs/dpv_demo/lib/python3.7/site-packages (from requests<3.0.0,>=2.13.0->spacy==2.2.3) (1.25.11)\n",
      "Requirement already satisfied: certifi>=2017.4.17 in /home/henchli/anaconda3/envs/dpv_demo/lib/python3.7/site-packages (from requests<3.0.0,>=2.13.0->spacy==2.2.3) (2021.5.30)\n",
      "Requirement already satisfied: chardet<3.1.0,>=3.0.2 in /home/henchli/anaconda3/envs/dpv_demo/lib/python3.7/site-packages (from requests<3.0.0,>=2.13.0->spacy==2.2.3) (3.0.4)\n",
      "Requirement already satisfied: tqdm<5.0.0,>=4.10.0 in /home/henchli/anaconda3/envs/dpv_demo/lib/python3.7/site-packages (from thinc<7.4.0,>=7.3.0->spacy==2.2.3) (4.41.1)\n",
      "Requirement already satisfied: gensim==3.8.1 in /home/henchli/anaconda3/envs/dpv_demo/lib/python3.7/site-packages (3.8.1)\n",
      "Requirement already satisfied: six>=1.5.0 in /home/henchli/anaconda3/envs/dpv_demo/lib/python3.7/site-packages (from gensim==3.8.1) (1.16.0)\n",
      "Requirement already satisfied: smart-open>=1.8.1 in /home/henchli/anaconda3/envs/dpv_demo/lib/python3.7/site-packages (from gensim==3.8.1) (5.1.0)\n",
      "Requirement already satisfied: scipy>=0.18.1 in /home/henchli/anaconda3/envs/dpv_demo/lib/python3.7/site-packages (from gensim==3.8.1) (1.4.1)\n",
      "Requirement already satisfied: numpy>=1.11.3 in /home/henchli/anaconda3/envs/dpv_demo/lib/python3.7/site-packages (from gensim==3.8.1) (1.18.0)\n",
      "Requirement already satisfied: tensorflow==1.15.2 in /home/henchli/anaconda3/envs/dpv_demo/lib/python3.7/site-packages (1.15.2)\n",
      "Requirement already satisfied: keras-preprocessing>=1.0.5 in /home/henchli/anaconda3/envs/dpv_demo/lib/python3.7/site-packages (from tensorflow==1.15.2) (1.1.2)\n",
      "Requirement already satisfied: tensorflow-estimator==1.15.1 in /home/henchli/anaconda3/envs/dpv_demo/lib/python3.7/site-packages (from tensorflow==1.15.2) (1.15.1)\n",
      "Requirement already satisfied: google-pasta>=0.1.6 in /home/henchli/anaconda3/envs/dpv_demo/lib/python3.7/site-packages (from tensorflow==1.15.2) (0.2.0)\n",
      "Requirement already satisfied: keras-applications>=1.0.8 in /home/henchli/anaconda3/envs/dpv_demo/lib/python3.7/site-packages (from tensorflow==1.15.2) (1.0.8)\n",
      "Requirement already satisfied: numpy<2.0,>=1.16.0 in /home/henchli/anaconda3/envs/dpv_demo/lib/python3.7/site-packages (from tensorflow==1.15.2) (1.18.0)\n",
      "Requirement already satisfied: six>=1.10.0 in /home/henchli/anaconda3/envs/dpv_demo/lib/python3.7/site-packages (from tensorflow==1.15.2) (1.16.0)\n",
      "Requirement already satisfied: wheel>=0.26 in /home/henchli/anaconda3/envs/dpv_demo/lib/python3.7/site-packages (from tensorflow==1.15.2) (0.36.2)\n",
      "Requirement already satisfied: tensorboard<1.16.0,>=1.15.0 in /home/henchli/anaconda3/envs/dpv_demo/lib/python3.7/site-packages (from tensorflow==1.15.2) (1.15.0)\n",
      "Requirement already satisfied: protobuf>=3.6.1 in /home/henchli/anaconda3/envs/dpv_demo/lib/python3.7/site-packages (from tensorflow==1.15.2) (3.17.3)\n",
      "Requirement already satisfied: opt-einsum>=2.3.2 in /home/henchli/anaconda3/envs/dpv_demo/lib/python3.7/site-packages (from tensorflow==1.15.2) (3.3.0)\n",
      "Requirement already satisfied: gast==0.2.2 in /home/henchli/anaconda3/envs/dpv_demo/lib/python3.7/site-packages (from tensorflow==1.15.2) (0.2.2)\n",
      "Requirement already satisfied: absl-py>=0.7.0 in /home/henchli/anaconda3/envs/dpv_demo/lib/python3.7/site-packages (from tensorflow==1.15.2) (0.13.0)\n",
      "Requirement already satisfied: wrapt>=1.11.1 in /home/henchli/anaconda3/envs/dpv_demo/lib/python3.7/site-packages (from tensorflow==1.15.2) (1.12.1)\n",
      "Requirement already satisfied: astor>=0.6.0 in /home/henchli/anaconda3/envs/dpv_demo/lib/python3.7/site-packages (from tensorflow==1.15.2) (0.8.1)\n",
      "Requirement already satisfied: termcolor>=1.1.0 in /home/henchli/anaconda3/envs/dpv_demo/lib/python3.7/site-packages (from tensorflow==1.15.2) (1.1.0)\n",
      "Requirement already satisfied: grpcio>=1.8.6 in /home/henchli/anaconda3/envs/dpv_demo/lib/python3.7/site-packages (from tensorflow==1.15.2) (1.38.1)\n",
      "Requirement already satisfied: h5py in /home/henchli/anaconda3/envs/dpv_demo/lib/python3.7/site-packages (from keras-applications>=1.0.8->tensorflow==1.15.2) (2.10.0)\n",
      "Requirement already satisfied: setuptools>=41.0.0 in /home/henchli/anaconda3/envs/dpv_demo/lib/python3.7/site-packages (from tensorboard<1.16.0,>=1.15.0->tensorflow==1.15.2) (52.0.0.post20210125)\n",
      "Requirement already satisfied: markdown>=2.6.8 in /home/henchli/anaconda3/envs/dpv_demo/lib/python3.7/site-packages (from tensorboard<1.16.0,>=1.15.0->tensorflow==1.15.2) (3.3.4)\n",
      "Requirement already satisfied: werkzeug>=0.11.15 in /home/henchli/anaconda3/envs/dpv_demo/lib/python3.7/site-packages (from tensorboard<1.16.0,>=1.15.0->tensorflow==1.15.2) (2.0.1)\n",
      "Requirement already satisfied: importlib-metadata in /home/henchli/anaconda3/envs/dpv_demo/lib/python3.7/site-packages (from markdown>=2.6.8->tensorboard<1.16.0,>=1.15.0->tensorflow==1.15.2) (4.6.1)\n",
      "Requirement already satisfied: typing-extensions>=3.6.4 in /home/henchli/anaconda3/envs/dpv_demo/lib/python3.7/site-packages (from importlib-metadata->markdown>=2.6.8->tensorboard<1.16.0,>=1.15.0->tensorflow==1.15.2) (3.10.0.0)\n",
      "Requirement already satisfied: zipp>=0.5 in /home/henchli/anaconda3/envs/dpv_demo/lib/python3.7/site-packages (from importlib-metadata->markdown>=2.6.8->tensorboard<1.16.0,>=1.15.0->tensorflow==1.15.2) (3.5.0)\n",
      "Collecting en_core_web_sm==2.2.5\n",
      "  Using cached en_core_web_sm-2.2.5-py3-none-any.whl\n",
      "Requirement already satisfied: spacy>=2.2.2 in /home/henchli/anaconda3/envs/dpv_demo/lib/python3.7/site-packages (from en_core_web_sm==2.2.5) (2.2.3)\n",
      "Requirement already satisfied: requests<3.0.0,>=2.13.0 in /home/henchli/anaconda3/envs/dpv_demo/lib/python3.7/site-packages (from spacy>=2.2.2->en_core_web_sm==2.2.5) (2.22.0)\n",
      "Requirement already satisfied: catalogue<1.1.0,>=0.0.7 in /home/henchli/anaconda3/envs/dpv_demo/lib/python3.7/site-packages (from spacy>=2.2.2->en_core_web_sm==2.2.5) (1.0.0)\n",
      "Requirement already satisfied: plac<1.2.0,>=0.9.6 in /home/henchli/anaconda3/envs/dpv_demo/lib/python3.7/site-packages (from spacy>=2.2.2->en_core_web_sm==2.2.5) (1.1.3)\n",
      "Requirement already satisfied: blis<0.5.0,>=0.4.0 in /home/henchli/anaconda3/envs/dpv_demo/lib/python3.7/site-packages (from spacy>=2.2.2->en_core_web_sm==2.2.5) (0.4.1)\n",
      "Requirement already satisfied: wasabi<1.1.0,>=0.4.0 in /home/henchli/anaconda3/envs/dpv_demo/lib/python3.7/site-packages (from spacy>=2.2.2->en_core_web_sm==2.2.5) (0.8.2)\n",
      "Requirement already satisfied: preshed<3.1.0,>=3.0.2 in /home/henchli/anaconda3/envs/dpv_demo/lib/python3.7/site-packages (from spacy>=2.2.2->en_core_web_sm==2.2.5) (3.0.5)\n",
      "Requirement already satisfied: setuptools in /home/henchli/anaconda3/envs/dpv_demo/lib/python3.7/site-packages (from spacy>=2.2.2->en_core_web_sm==2.2.5) (52.0.0.post20210125)\n",
      "Requirement already satisfied: numpy>=1.15.0 in /home/henchli/anaconda3/envs/dpv_demo/lib/python3.7/site-packages (from spacy>=2.2.2->en_core_web_sm==2.2.5) (1.18.0)\n",
      "Requirement already satisfied: cymem<2.1.0,>=2.0.2 in /home/henchli/anaconda3/envs/dpv_demo/lib/python3.7/site-packages (from spacy>=2.2.2->en_core_web_sm==2.2.5) (2.0.5)\n",
      "Requirement already satisfied: murmurhash<1.1.0,>=0.28.0 in /home/henchli/anaconda3/envs/dpv_demo/lib/python3.7/site-packages (from spacy>=2.2.2->en_core_web_sm==2.2.5) (1.0.5)\n",
      "Requirement already satisfied: srsly<1.1.0,>=0.1.0 in /home/henchli/anaconda3/envs/dpv_demo/lib/python3.7/site-packages (from spacy>=2.2.2->en_core_web_sm==2.2.5) (1.0.5)\n",
      "Requirement already satisfied: thinc<7.4.0,>=7.3.0 in /home/henchli/anaconda3/envs/dpv_demo/lib/python3.7/site-packages (from spacy>=2.2.2->en_core_web_sm==2.2.5) (7.3.1)\n",
      "Requirement already satisfied: importlib-metadata>=0.20 in /home/henchli/anaconda3/envs/dpv_demo/lib/python3.7/site-packages (from catalogue<1.1.0,>=0.0.7->spacy>=2.2.2->en_core_web_sm==2.2.5) (4.6.1)\n",
      "Requirement already satisfied: typing-extensions>=3.6.4 in /home/henchli/anaconda3/envs/dpv_demo/lib/python3.7/site-packages (from importlib-metadata>=0.20->catalogue<1.1.0,>=0.0.7->spacy>=2.2.2->en_core_web_sm==2.2.5) (3.10.0.0)\n",
      "Requirement already satisfied: zipp>=0.5 in /home/henchli/anaconda3/envs/dpv_demo/lib/python3.7/site-packages (from importlib-metadata>=0.20->catalogue<1.1.0,>=0.0.7->spacy>=2.2.2->en_core_web_sm==2.2.5) (3.5.0)\n",
      "Requirement already satisfied: certifi>=2017.4.17 in /home/henchli/anaconda3/envs/dpv_demo/lib/python3.7/site-packages (from requests<3.0.0,>=2.13.0->spacy>=2.2.2->en_core_web_sm==2.2.5) (2021.5.30)\n",
      "Requirement already satisfied: urllib3!=1.25.0,!=1.25.1,<1.26,>=1.21.1 in /home/henchli/anaconda3/envs/dpv_demo/lib/python3.7/site-packages (from requests<3.0.0,>=2.13.0->spacy>=2.2.2->en_core_web_sm==2.2.5) (1.25.11)\n",
      "Requirement already satisfied: chardet<3.1.0,>=3.0.2 in /home/henchli/anaconda3/envs/dpv_demo/lib/python3.7/site-packages (from requests<3.0.0,>=2.13.0->spacy>=2.2.2->en_core_web_sm==2.2.5) (3.0.4)\n",
      "Requirement already satisfied: idna<2.9,>=2.5 in /home/henchli/anaconda3/envs/dpv_demo/lib/python3.7/site-packages (from requests<3.0.0,>=2.13.0->spacy>=2.2.2->en_core_web_sm==2.2.5) (2.8)\n",
      "Requirement already satisfied: tqdm<5.0.0,>=4.10.0 in /home/henchli/anaconda3/envs/dpv_demo/lib/python3.7/site-packages (from thinc<7.4.0,>=7.3.0->spacy>=2.2.2->en_core_web_sm==2.2.5) (4.41.1)\n"
     ]
    }
   ],
   "metadata": {}
  },
  {
   "cell_type": "code",
   "execution_count": 1,
   "source": [
    "!unzip gobot_dstc2.zip \n",
    "!rm -r ~/.deeppavlov/models/gobot_dstc2\n",
    "!cp -r ./gobot_dstc2 ~/.deeppavlov/models/\n",
    "\n",
    "# substitute the weight trained by us"
   ],
   "outputs": [
    {
     "output_type": "stream",
     "name": "stdout",
     "text": [
      "Archive:  gobot_dstc2.zip\n",
      "   creating: gobot_dstc2/\n",
      "  inflating: gobot_dstc2/word.dict   \n",
      "  inflating: gobot_dstc2/checkpoint  \n",
      "  inflating: gobot_dstc2/model.meta  \n",
      "  inflating: gobot_dstc2/model.index  \n",
      "  inflating: gobot_dstc2/model.json  \n",
      "  inflating: gobot_dstc2/model.data-00000-of-00001  \n",
      "   creating: gobot_dstc2/model/\n",
      "  inflating: gobot_dstc2/model/policy.data-00000-of-00001  \n",
      "  inflating: gobot_dstc2/model/policy.index  \n",
      "  inflating: gobot_dstc2/model/checkpoint  \n",
      "  inflating: gobot_dstc2/model/policy.meta  \n",
      "  inflating: gobot_dstc2/model/policy.json  \n"
     ]
    }
   ],
   "metadata": {}
  },
  {
   "cell_type": "code",
   "execution_count": 2,
   "source": [
    "!python -m deeppavlov train gobot_dstc2\n",
    "\n",
    "# train the DST model with our dataset"
   ],
   "outputs": [
    {
     "output_type": "stream",
     "name": "stdout",
     "text": [
      "2021-07-19 11:38:49.491 INFO in 'deeppavlov.core.common.file'['file'] at line 32: Interpreting 'gobot_dstc2' as '/home/henchli/anaconda3/envs/dpv_demo/lib/python3.7/site-packages/deeppavlov/configs/go_bot/gobot_dstc2.json'\n",
      "2021-07-19 11:38:49.493 INFO in 'deeppavlov.dataset_readers.dstc2_reader'['dstc2_reader'] at line 112: [loading dialogs from /home/henchli/.deeppavlov/downloads/dstc2_v3/dstc2-trn.jsonlist]\n",
      "2021-07-19 11:38:49.679 INFO in 'deeppavlov.dataset_readers.dstc2_reader'['dstc2_reader'] at line 112: [loading dialogs from /home/henchli/.deeppavlov/downloads/dstc2_v3/dstc2-val.jsonlist]\n",
      "2021-07-19 11:38:49.809 INFO in 'deeppavlov.dataset_readers.dstc2_reader'['dstc2_reader'] at line 112: [loading dialogs from /home/henchli/.deeppavlov/downloads/dstc2_v3/dstc2-tst.jsonlist]\n",
      "[nltk_data] Downloading package punkt to /home/henchli/nltk_data...\n",
      "[nltk_data]   Package punkt is already up-to-date!\n",
      "[nltk_data] Downloading package stopwords to\n",
      "[nltk_data]     /home/henchli/nltk_data...\n",
      "[nltk_data]   Package stopwords is already up-to-date!\n",
      "[nltk_data] Downloading package perluniprops to\n",
      "[nltk_data]     /home/henchli/nltk_data...\n",
      "[nltk_data]   Package perluniprops is already up-to-date!\n",
      "[nltk_data] Downloading package nonbreaking_prefixes to\n",
      "[nltk_data]     /home/henchli/nltk_data...\n",
      "[nltk_data]   Package nonbreaking_prefixes is already up-to-date!\n",
      "2021-07-19 11:38:50.262 INFO in 'deeppavlov.core.data.simple_vocab'['simple_vocab'] at line 115: [loading vocabulary from /home/henchli/.deeppavlov/models/gobot_dstc2/word.dict]\n",
      "2021-07-19 11:38:50.365 INFO in 'deeppavlov.core.data.simple_vocab'['simple_vocab'] at line 101: [saving vocabulary to /home/henchli/.deeppavlov/models/gobot_dstc2/word.dict]\n",
      "WARNING:tensorflow:From /home/henchli/anaconda3/envs/dpv_demo/lib/python3.7/site-packages/deeppavlov/core/models/tf_model.py:37: The name tf.Session is deprecated. Please use tf.compat.v1.Session instead.\n",
      "\n",
      "WARNING:tensorflow:From /home/henchli/anaconda3/envs/dpv_demo/lib/python3.7/site-packages/deeppavlov/core/models/tf_model.py:222: The name tf.placeholder is deprecated. Please use tf.compat.v1.placeholder instead.\n",
      "\n",
      "WARNING:tensorflow:From /home/henchli/anaconda3/envs/dpv_demo/lib/python3.7/site-packages/deeppavlov/core/models/tf_model.py:222: The name tf.train.Optimizer is deprecated. Please use tf.compat.v1.train.Optimizer instead.\n",
      "\n",
      "2021-07-19 11:38:51.330 WARNING in 'deeppavlov.core.models.serializable'['serializable'] at line 52: No load path is set for Sqlite3Database!\n",
      "2021-07-19 11:38:51.330 INFO in 'deeppavlov.core.data.sqlite_database'['sqlite_database'] at line 66: Loading database from /home/henchli/.deeppavlov/downloads/dstc2_v3/resto.sqlite.\n",
      "2021-07-19 11:38:51.333 INFO in 'deeppavlov.core.data.simple_vocab'['simple_vocab'] at line 115: [loading vocabulary from /home/henchli/.deeppavlov/models/slotfill_dstc2/word.dict]\n",
      "2021-07-19 11:38:51.336 INFO in 'deeppavlov.core.data.simple_vocab'['simple_vocab'] at line 115: [loading vocabulary from /home/henchli/.deeppavlov/models/slotfill_dstc2/tag.dict]\n",
      "WARNING:tensorflow:From /home/henchli/anaconda3/envs/dpv_demo/lib/python3.7/site-packages/deeppavlov/models/ner/network.py:96: The name tf.set_random_seed is deprecated. Please use tf.compat.v1.set_random_seed instead.\n",
      "\n",
      "WARNING:tensorflow:From /home/henchli/anaconda3/envs/dpv_demo/lib/python3.7/site-packages/deeppavlov/core/models/tf_model.py:193: The name tf.train.AdamOptimizer is deprecated. Please use tf.compat.v1.train.AdamOptimizer instead.\n",
      "\n",
      "WARNING:tensorflow:From /home/henchli/anaconda3/envs/dpv_demo/lib/python3.7/site-packages/deeppavlov/models/ner/network.py:170: The name tf.placeholder_with_default is deprecated. Please use tf.compat.v1.placeholder_with_default instead.\n",
      "\n",
      "WARNING:tensorflow:From /home/henchli/anaconda3/envs/dpv_demo/lib/python3.7/site-packages/deeppavlov/core/layers/tf_layers.py:67: conv1d (from tensorflow.python.layers.convolutional) is deprecated and will be removed in a future version.\n",
      "Instructions for updating:\n",
      "Use `tf.keras.layers.Conv1D` instead.\n",
      "WARNING:tensorflow:From /home/henchli/anaconda3/envs/dpv_demo/lib/python3.7/site-packages/tensorflow_core/python/layers/convolutional.py:218: Layer.apply (from tensorflow.python.keras.engine.base_layer) is deprecated and will be removed in a future version.\n",
      "Instructions for updating:\n",
      "Please use `layer.__call__` method instead.\n",
      "WARNING:tensorflow:From /home/henchli/anaconda3/envs/dpv_demo/lib/python3.7/site-packages/deeppavlov/core/layers/tf_layers.py:70: batch_normalization (from tensorflow.python.layers.normalization) is deprecated and will be removed in a future version.\n",
      "Instructions for updating:\n",
      "Use keras.layers.BatchNormalization instead.  In particular, `tf.control_dependencies(tf.GraphKeys.UPDATE_OPS)` should not be used (consult the `tf.keras.layers.batch_normalization` documentation).\n",
      "WARNING:tensorflow:From /home/henchli/anaconda3/envs/dpv_demo/lib/python3.7/site-packages/deeppavlov/models/ner/network.py:248: dense (from tensorflow.python.layers.core) is deprecated and will be removed in a future version.\n",
      "Instructions for updating:\n",
      "Use keras.layers.Dense instead.\n",
      "WARNING:tensorflow:From /home/henchli/anaconda3/envs/dpv_demo/lib/python3.7/site-packages/deeppavlov/models/ner/network.py:259: softmax_cross_entropy_with_logits (from tensorflow.python.ops.nn_ops) is deprecated and will be removed in a future version.\n",
      "Instructions for updating:\n",
      "\n",
      "Future major versions of TensorFlow will allow gradients to flow\n",
      "into the labels input on backprop by default.\n",
      "\n",
      "See `tf.nn.softmax_cross_entropy_with_logits_v2`.\n",
      "\n",
      "WARNING:tensorflow:From /home/henchli/anaconda3/envs/dpv_demo/lib/python3.7/site-packages/deeppavlov/core/models/tf_model.py:122: The name tf.variable_scope is deprecated. Please use tf.compat.v1.variable_scope instead.\n",
      "\n",
      "WARNING:tensorflow:From /home/henchli/anaconda3/envs/dpv_demo/lib/python3.7/site-packages/deeppavlov/core/models/tf_model.py:127: The name tf.get_collection is deprecated. Please use tf.compat.v1.get_collection instead.\n",
      "\n",
      "WARNING:tensorflow:From /home/henchli/anaconda3/envs/dpv_demo/lib/python3.7/site-packages/deeppavlov/core/models/tf_model.py:127: The name tf.GraphKeys is deprecated. Please use tf.compat.v1.GraphKeys instead.\n",
      "\n",
      "WARNING:tensorflow:From /home/henchli/anaconda3/envs/dpv_demo/lib/python3.7/site-packages/tensorflow_core/python/ops/clip_ops.py:172: where (from tensorflow.python.ops.array_ops) is deprecated and will be removed in a future version.\n",
      "Instructions for updating:\n",
      "Use tf.where in 2.0, which has the same broadcast rule as np.where\n",
      "WARNING:tensorflow:From /home/henchli/anaconda3/envs/dpv_demo/lib/python3.7/site-packages/deeppavlov/models/ner/network.py:161: The name tf.ConfigProto is deprecated. Please use tf.compat.v1.ConfigProto instead.\n",
      "\n",
      "2021-07-19 11:38:51.847153: I tensorflow/core/platform/cpu_feature_guard.cc:142] Your CPU supports instructions that this TensorFlow binary was not compiled to use: AVX2 FMA\n",
      "2021-07-19 11:38:51.867991: I tensorflow/core/platform/profile_utils/cpu_utils.cc:94] CPU Frequency: 2199995000 Hz\n",
      "2021-07-19 11:38:51.868395: I tensorflow/compiler/xla/service/service.cc:168] XLA service 0x557c15ef5670 initialized for platform Host (this does not guarantee that XLA will be used). Devices:\n",
      "2021-07-19 11:38:51.868436: I tensorflow/compiler/xla/service/service.cc:176]   StreamExecutor device (0): Host, Default Version\n",
      "WARNING:tensorflow:From /home/henchli/anaconda3/envs/dpv_demo/lib/python3.7/site-packages/deeppavlov/models/ner/network.py:166: The name tf.global_variables_initializer is deprecated. Please use tf.compat.v1.global_variables_initializer instead.\n",
      "\n",
      "WARNING:tensorflow:From /home/henchli/anaconda3/envs/dpv_demo/lib/python3.7/site-packages/deeppavlov/core/models/tf_model.py:50: checkpoint_exists (from tensorflow.python.training.checkpoint_management) is deprecated and will be removed in a future version.\n",
      "Instructions for updating:\n",
      "Use standard file APIs to check for files with this prefix.\n",
      "2021-07-19 11:38:51.932 INFO in 'deeppavlov.core.models.tf_model'['tf_model'] at line 51: [loading model from /home/henchli/.deeppavlov/models/slotfill_dstc2/model]\n",
      "WARNING:tensorflow:From /home/henchli/anaconda3/envs/dpv_demo/lib/python3.7/site-packages/deeppavlov/core/models/tf_model.py:54: The name tf.train.Saver is deprecated. Please use tf.compat.v1.train.Saver instead.\n",
      "\n",
      "2021-07-19 11:38:52.17 INFO in 'deeppavlov.models.embedders.glove_embedder'['glove_embedder'] at line 52: [loading GloVe embeddings from `/home/henchli/.deeppavlov/downloads/embeddings/glove.6B.100d.txt`]\n",
      "WARNING:tensorflow:From /home/henchli/anaconda3/envs/dpv_demo/lib/python3.7/site-packages/deeppavlov/core/common/registry.py:42: The name tf.train.AdamOptimizer is deprecated. Please use tf.compat.v1.train.AdamOptimizer instead.\n",
      "\n",
      "WARNING:tensorflow:From /home/henchli/anaconda3/envs/dpv_demo/lib/python3.7/site-packages/deeppavlov/core/models/tf_model.py:194: The name tf.train.Optimizer is deprecated. Please use tf.compat.v1.train.Optimizer instead.\n",
      "\n",
      "WARNING:tensorflow:From /home/henchli/anaconda3/envs/dpv_demo/lib/python3.7/site-packages/deeppavlov/models/go_bot/policy/policy_network.py:265: The name tf.nn.rnn_cell.LSTMStateTuple is deprecated. Please use tf.compat.v1.nn.rnn_cell.LSTMStateTuple instead.\n",
      "\n",
      "WARNING:tensorflow:From /home/henchli/anaconda3/envs/dpv_demo/lib/python3.7/site-packages/deeppavlov/models/go_bot/policy/policy_network.py:285: LSTMCell.__init__ (from tensorflow.python.ops.rnn_cell_impl) is deprecated and will be removed in a future version.\n",
      "Instructions for updating:\n",
      "This class is equivalent as tf.keras.layers.LSTMCell, and will be replaced by that in Tensorflow 2.0.\n",
      "WARNING:tensorflow:From /home/henchli/anaconda3/envs/dpv_demo/lib/python3.7/site-packages/deeppavlov/models/go_bot/policy/policy_network.py:292: dynamic_rnn (from tensorflow.python.ops.rnn) is deprecated and will be removed in a future version.\n",
      "Instructions for updating:\n",
      "Please use `keras.layers.RNN(cell)`, which is equivalent to this API\n",
      "WARNING:tensorflow:From /home/henchli/anaconda3/envs/dpv_demo/lib/python3.7/site-packages/tensorflow_core/python/ops/rnn_cell_impl.py:958: Layer.add_variable (from tensorflow.python.keras.engine.base_layer) is deprecated and will be removed in a future version.\n",
      "Instructions for updating:\n",
      "Please use `layer.add_weight` method instead.\n",
      "WARNING:tensorflow:From /home/henchli/anaconda3/envs/dpv_demo/lib/python3.7/site-packages/tensorflow_core/python/ops/rnn_cell_impl.py:962: calling Zeros.__init__ (from tensorflow.python.ops.init_ops) with dtype is deprecated and will be removed in a future version.\n",
      "Instructions for updating:\n",
      "Call initializer instance with the dtype argument instead of passing it to the constructor\n",
      "WARNING:tensorflow:From /home/henchli/anaconda3/envs/dpv_demo/lib/python3.7/site-packages/deeppavlov/models/go_bot/policy/policy_network.py:246: The name tf.losses.get_regularization_loss is deprecated. Please use tf.compat.v1.losses.get_regularization_loss instead.\n",
      "\n",
      "WARNING:tensorflow:From /home/henchli/anaconda3/envs/dpv_demo/lib/python3.7/site-packages/tensorflow_core/python/ops/variables.py:2825: Variable.initialized_value (from tensorflow.python.ops.variables) is deprecated and will be removed in a future version.\n",
      "Instructions for updating:\n",
      "Use Variable.read_value. Variables in 2.X are initialized automatically both in eager and graph (inside tf.defun) contexts.\n",
      "2021-07-19 11:39:19.480 INFO in 'deeppavlov.models.go_bot.policy.policy_network'['policy_network'] at line 86: INSIDE PolicyNetwork init(). Initializing PolicyNetwork from checkpoint.\n",
      "2021-07-19 11:39:19.481 INFO in 'deeppavlov.core.models.tf_model'['tf_model'] at line 51: [loading model from /home/henchli/.deeppavlov/models/gobot_dstc2/model/policy]\n",
      "WARNING:tensorflow:From /home/henchli/anaconda3/envs/dpv_demo/lib/python3.7/site-packages/deeppavlov/core/models/tf_model.py:54: The name tf.train.Saver is deprecated. Please use tf.compat.v1.train.Saver instead.\n",
      "\n",
      "2021-07-19 11:39:33.745 INFO in 'deeppavlov.core.trainers.nn_trainer'['nn_trainer'] at line 199: Initial best per_item_action_accuracy of 0.4924\n",
      "{\"valid\": {\"eval_examples_count\": 575, \"metrics\": {\"per_item_action_accuracy\": 0.4924}, \"time_spent\": \"0:00:15\", \"epochs_done\": 0, \"batches_seen\": 0, \"train_examples_seen\": 0, \"impatience\": 0, \"patience_limit\": 10}}\n",
      "{\"train\": {\"eval_examples_count\": 8, \"metrics\": {\"per_item_action_accuracy\": 0.5}, \"time_spent\": \"0:00:17\", \"epochs_done\": 0, \"batches_seen\": 15, \"train_examples_seen\": 120, \"learning_rate\": 0.003, \"momentum\": 0.95, \"loss\": 0.6570317347844442}}\n",
      "^C\n",
      "2021-07-19 11:39:40.522 INFO in 'deeppavlov.core.trainers.nn_trainer'['nn_trainer'] at line 339: Stopped training\n",
      "2021-07-19 11:39:40.527 INFO in 'deeppavlov.core.data.simple_vocab'['simple_vocab'] at line 115: [loading vocabulary from /home/henchli/.deeppavlov/models/gobot_dstc2/word.dict]\n",
      "2021-07-19 11:39:40.528 WARNING in 'deeppavlov.core.models.serializable'['serializable'] at line 49: No load path is set for Sqlite3Database in 'infer' mode. Using save path instead\n",
      "2021-07-19 11:39:40.528 INFO in 'deeppavlov.core.data.sqlite_database'['sqlite_database'] at line 66: Loading database from /home/henchli/.deeppavlov/downloads/dstc2_v3/resto.sqlite.\n",
      "2021-07-19 11:39:40.531 INFO in 'deeppavlov.core.data.simple_vocab'['simple_vocab'] at line 115: [loading vocabulary from /home/henchli/.deeppavlov/models/slotfill_dstc2/word.dict]\n",
      "2021-07-19 11:39:40.533 INFO in 'deeppavlov.core.data.simple_vocab'['simple_vocab'] at line 115: [loading vocabulary from /home/henchli/.deeppavlov/models/slotfill_dstc2/tag.dict]\n"
     ]
    }
   ],
   "metadata": {}
  },
  {
   "cell_type": "markdown",
   "source": [
    "### 3.4 Output of dialogue system\n",
    "\n",
    "2021-07-13 23:14:44.309 INFO in 'deeppavlov.models.go_bot.policy.policy_network'['policy_network'] at line 86: INSIDE PolicyNetwork init(). Initializing PolicyNetwork from checkpoint.\n",
    "\n",
    "2021-07-13 23:14:44.310 INFO in 'deeppavlov.core.models.tf_model'['tf_model'] at line 51: [loading model from ~/.deeppavlov/models/gobot_dstc2/model/policy]\n",
    "\n",
    "{\"valid\": {\"eval_examples_count\": 575, \"metrics\": {\"per_item_action_accuracy\": 0.5001}, \"time_spent\": \"0:00:15\"}}\n",
    "\n",
    "{\"test\": {\"eval_examples_count\": 576, \"metrics\": {\"per_item_action_accuracy\": 0.5076}, \"time_spent\": \"0:00:15\"}}"
   ],
   "metadata": {}
  },
  {
   "cell_type": "markdown",
   "source": [
    "This is the result of DST. The result obtained on our modified data set is slightly worse than the effect on the original dstc2. The reason may be that we have more sentences that are not fluent, which affects the training and prediction of the model."
   ],
   "metadata": {}
  }
 ],
 "metadata": {
  "kernelspec": {
   "display_name": "Python 3.7.10 64-bit ('dpv_demo': conda)",
   "metadata": {
    "interpreter": {
     "hash": "a8187a4ad6b9316af29e3dd1bd04349d9ead9600c71e5a5bbf69d3aa0a413012"
    }
   },
   "name": "python3"
  },
  "language_info": {
   "codemirror_mode": {
    "name": "ipython",
    "version": 3
   },
   "file_extension": ".py",
   "mimetype": "text/x-python",
   "name": "python",
   "nbconvert_exporter": "python",
   "pygments_lexer": "ipython3",
   "version": "3.7.10"
  },
  "orig_nbformat": 2
 },
 "nbformat": 4,
 "nbformat_minor": 2
}